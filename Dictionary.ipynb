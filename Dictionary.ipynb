{
 "cells": [
  {
   "cell_type": "code",
   "execution_count": 2,
   "metadata": {},
   "outputs": [],
   "source": [
    "lbs_info = {\n",
    "    'full name': \"lal bahadur shastri  college\",\n",
    "    'short name': 'lbs',\n",
    "    'students': 440,\n",
    "    'culture':'mood kharab bacche'\n",
    "}"
   ]
  },
  {
   "cell_type": "code",
   "execution_count": 9,
   "metadata": {},
   "outputs": [],
   "source": [
    "movies ={\n",
    "    'Suryvansham':{\n",
    "        'relayed on ':'Sony Max',\n",
    "        'plot':'Rich father does not like his illitrate son',\n",
    "        'rating': 10\n",
    "    },\n",
    "    'Ghajini':{\n",
    "        'plot':'Rich Person forgets everthing after 15 minutes',\n",
    "        'rating':10,\n",
    "        'streamed on':'Jio Cinema'\n",
    "    },\n",
    "    'padmavat':{\n",
    "        'plot':'history',\n",
    "        'rating':9.8,\n",
    "        'streamed on':'jio cinema'\n",
    "    },\n",
    "    'Kerala Story':{\n",
    "        'plot':'Religion change',\n",
    "        'rating':9,\n",
    "        'streamed on':'Amazon Prime'\n",
    "\n",
    "    },\n",
    "    '3idiot':{\n",
    "        'plot':'learn Concet ',\n",
    "        'rating':10,\n",
    "        'streamed on':'Sony liv'\n",
    "    }\n",
    "    }\n",
    "    \n",
    "\n",
    "    \n"
   ]
  },
  {
   "attachments": {},
   "cell_type": "markdown",
   "metadata": {},
   "source": [
    "adding data \n",
    "syntax dic[key]=value"
   ]
  },
  {
   "cell_type": "code",
   "execution_count": 15,
   "metadata": {},
   "outputs": [],
   "source": [
    "movies['3 idiots']={\n",
    "    'streamed on': 'Amazon Prime',\n",
    "    'plot':'3 friends in college',\n",
    "    'rating':10\n",
    "}"
   ]
  },
  {
   "cell_type": "code",
   "execution_count": 11,
   "metadata": {},
   "outputs": [
    {
     "data": {
      "text/plain": [
       "{'plot': 'Rich Person forgets everthing after 15 minutes',\n",
       " 'rating': 10,\n",
       " 'streamed on': 'Jio Cinema'}"
      ]
     },
     "execution_count": 11,
     "metadata": {},
     "output_type": "execute_result"
    }
   ],
   "source": [
    "#retrieve\n",
    "movies['Ghajini']"
   ]
  },
  {
   "cell_type": "code",
   "execution_count": 16,
   "metadata": {},
   "outputs": [
    {
     "data": {
      "text/plain": [
       "'3 friends in college'"
      ]
     },
     "execution_count": 16,
     "metadata": {},
     "output_type": "execute_result"
    }
   ],
   "source": [
    "movies['3 idiots']['plot']"
   ]
  },
  {
   "cell_type": "code",
   "execution_count": 17,
   "metadata": {},
   "outputs": [
    {
     "data": {
      "text/plain": [
       "[{'relayed on ': 'Sony Max',\n",
       "  'plot': 'Rich father does not like his illitrate son',\n",
       "  'rating': 10},\n",
       " {'plot': 'Rich Person forgets everthing after 15 minutes',\n",
       "  'rating': 10,\n",
       "  'streamed on': 'Jio Cinema'},\n",
       " {'plot': 'history', 'rating': 9.8, 'streamed on': 'jio cinema'},\n",
       " {'plot': 'Religion change', 'rating': 9, 'streamed on': 'Amazon Prime'},\n",
       " {'plot': 'learn Concet ', 'rating': 10, 'streamed on': 'Sony liv'},\n",
       " {'streamed on': 'Amazon Prime', 'plot': '3 friends in college', 'rating': 10}]"
      ]
     },
     "execution_count": 17,
     "metadata": {},
     "output_type": "execute_result"
    }
   ],
   "source": [
    "#getting only values\n",
    "list(movies.values())"
   ]
  },
  {
   "cell_type": "code",
   "execution_count": 18,
   "metadata": {},
   "outputs": [
    {
     "data": {
      "text/plain": [
       "['Suryvansham', 'Ghajini', 'padmavat', 'Kerala Story', '3idiot', '3 idiots']"
      ]
     },
     "execution_count": 18,
     "metadata": {},
     "output_type": "execute_result"
    }
   ],
   "source": [
    "#getting only  keys\n",
    "list(movies.keys())"
   ]
  },
  {
   "cell_type": "code",
   "execution_count": 20,
   "metadata": {},
   "outputs": [
    {
     "data": {
      "text/plain": [
       "dict_items([('Suryvansham', {'relayed on ': 'Sony Max', 'plot': 'Rich father does not like his illitrate son', 'rating': 10}), ('Ghajini', {'plot': 'Rich Person forgets everthing after 15 minutes', 'rating': 10, 'streamed on': 'Jio Cinema'}), ('padmavat', {'plot': 'history', 'rating': 9.8, 'streamed on': 'jio cinema'}), ('Kerala Story', {'plot': 'Religion change', 'rating': 9, 'streamed on': 'Amazon Prime'}), ('3idiot', {'plot': 'learn Concet ', 'rating': 10, 'streamed on': 'Sony liv'}), ('3 idiots', {'streamed on': 'Amazon Prime', 'plot': '3 friends in college', 'rating': 10})])"
      ]
     },
     "execution_count": 20,
     "metadata": {},
     "output_type": "execute_result"
    }
   ],
   "source": [
    "#getting both keys and values as pair\n",
    "movies.items()"
   ]
  },
  {
   "cell_type": "code",
   "execution_count": 21,
   "metadata": {},
   "outputs": [
    {
     "name": "stdout",
     "output_type": "stream",
     "text": [
      "SURYVANSHAM\n",
      "relayed on     Sony Max\n",
      "plot           Rich father does not like his illitrate son\n",
      "rating         10\n",
      "\n",
      "GHAJINI\n",
      "plot           Rich Person forgets everthing after 15 minutes\n",
      "rating         10\n",
      "streamed on    Jio Cinema\n",
      "\n",
      "PADMAVAT\n",
      "plot           history\n",
      "rating         9.8\n",
      "streamed on    jio cinema\n",
      "\n",
      "KERALA STORY\n",
      "plot           Religion change\n",
      "rating         9\n",
      "streamed on    Amazon Prime\n",
      "\n",
      "3IDIOT\n",
      "plot           learn Concet \n",
      "rating         10\n",
      "streamed on    Sony liv\n",
      "\n",
      "3 IDIOTS\n",
      "streamed on    Amazon Prime\n",
      "plot           3 friends in college\n",
      "rating         10\n",
      "\n"
     ]
    }
   ],
   "source": [
    "for title,details in movies.items():\n",
    "    print(title.upper())\n",
    "    for entry, value in details.items():\n",
    "        print(f'{entry:15}{value}')\n",
    "    print()"
   ]
  },
  {
   "cell_type": "code",
   "execution_count": 25,
   "metadata": {},
   "outputs": [
    {
     "name": "stdout",
     "output_type": "stream",
     "text": [
      "{'Suryvansham': {'relayed on ': 'Sony Max', 'plot': 'Rich father does not like his illitrate son', 'rating': 10}, 'padmavat': {'plot': 'history', 'rating': 9.8, 'streamed on': 'jio cinema'}, 'Kerala Story': {'plot': 'Religion change', 'rating': 9, 'streamed on': 'Amazon Prime'}, '3idiot': {'plot': 'learn Concet ', 'rating': 10, 'streamed on': 'Sony liv'}}\n"
     ]
    }
   ],
   "source": [
    "movies.pop('3 idiots')\n",
    "print(movies)"
   ]
  },
  {
   "cell_type": "code",
   "execution_count": null,
   "metadata": {},
   "outputs": [],
   "source": []
  }
 ],
 "metadata": {
  "kernelspec": {
   "display_name": "base",
   "language": "python",
   "name": "python3"
  },
  "language_info": {
   "codemirror_mode": {
    "name": "ipython",
    "version": 3
   },
   "file_extension": ".py",
   "mimetype": "text/x-python",
   "name": "python",
   "nbconvert_exporter": "python",
   "pygments_lexer": "ipython3",
   "version": "3.10.10"
  },
  "orig_nbformat": 4
 },
 "nbformat": 4,
 "nbformat_minor": 2
}
