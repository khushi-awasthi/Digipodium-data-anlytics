{
 "cells": [
  {
   "cell_type": "markdown",
   "metadata": {},
   "source": [
    "# if-else"
   ]
  },
  {
   "cell_type": "code",
   "execution_count": 3,
   "metadata": {},
   "outputs": [
    {
     "name": "stdout",
     "output_type": "stream",
     "text": [
      "your age is: 12\n",
      "False\n",
      "True\n",
      "False\n",
      "True\n",
      "you can not drive\n"
     ]
    }
   ],
   "source": [
    "a = int(input(\"Enter your age\"))\n",
    "print(\"your age is:\",a)\n",
    "\n",
    "#conditional operator\n",
    "# >,<,>=,<=,==,!=\n",
    "#print(a>18)\n",
    "#print(a<=18)\n",
    "#print(a==18)\n",
    "#print(a!=18)\n",
    "\n",
    "if(a>18):\n",
    "    print(\"you can drive\")\n",
    "else:\n",
    "    print(\"you can not drive\")"
   ]
  },
  {
   "cell_type": "code",
   "execution_count": 7,
   "metadata": {},
   "outputs": [
    {
     "name": "stdout",
     "output_type": "stream",
     "text": [
      "Alexa do not add Apples to the cart.\n"
     ]
    }
   ],
   "source": [
    "appleprice=210\n",
    "budget = 200\n",
    "if(appleprice <= budget):\n",
    "   print(\"Alexa, add 1 kg Apples to the cart.\")\n",
    "else:\n",
    "    print(\"Alexa do not add Apples to the cart.\")"
   ]
  },
  {
   "cell_type": "code",
   "execution_count": 8,
   "metadata": {},
   "outputs": [
    {
     "name": "stdout",
     "output_type": "stream",
     "text": [
      "Alexa, add 1 kg Apples to the cart.\n"
     ]
    }
   ],
   "source": [
    "appleprice=10\n",
    "budget = 200\n",
    "if( budget - appleprice > 50):\n",
    "   print(\"Alexa, add 1 kg Apples to the cart.\")\n",
    "elif(budget - appleprice > 70):\n",
    "    print (\"Its okay you can buy\")\n",
    "else:\n",
    "    print(\"Alexa do not add Apples to the cart.\")\n",
    "\n",
    "\n"
   ]
  },
  {
   "cell_type": "markdown",
   "metadata": {},
   "source": [
    "# elif"
   ]
  },
  {
   "cell_type": "code",
   "execution_count": 11,
   "metadata": {},
   "outputs": [
    {
     "name": "stdout",
     "output_type": "stream",
     "text": [
      "Number is positive.\n",
      "I am happy now.\n"
     ]
    }
   ],
   "source": [
    "num = int(input(\"Enter the value of num:\"))\n",
    "if(num < 0):\n",
    "    print(\"Number is negative.\")\n",
    "elif(num == 0):\n",
    "    print(\"Number is zero.\")\n",
    "elif(num ==999):\n",
    "    print(\"Number is special\")\n",
    "else:\n",
    "    print(\"Number is positive.\")\n",
    "print(\"I am happy now.\")"
   ]
  },
  {
   "cell_type": "markdown",
   "metadata": {},
   "source": [
    "# Nested"
   ]
  },
  {
   "cell_type": "code",
   "execution_count": 12,
   "metadata": {},
   "outputs": [
    {
     "name": "stdout",
     "output_type": "stream",
     "text": [
      "Number is between 11-20\n"
     ]
    }
   ],
   "source": [
    "num = 18\n",
    "if(num <0):\n",
    "    print(\"Number is negative.\")\n",
    "elif(num>0):\n",
    "    if(num <= 10):\n",
    "        print(\"Number is between 1-10\")\n",
    "    elif(num>10 and num<=20):\n",
    "        print(\"Number is between 11-20\")\n",
    "    else:\n",
    "        print(\"Number is greater than 20\")\n",
    "else:\n",
    "    print(\"Number is zeo\")"
   ]
  },
  {
   "cell_type": "code",
   "execution_count": 15,
   "metadata": {},
   "outputs": [
    {
     "name": "stdout",
     "output_type": "stream",
     "text": [
      "10:10:12\n",
      "10\n",
      "10\n",
      "12\n"
     ]
    }
   ],
   "source": [
    "import time\n",
    "timestamp = time.strftime('%H:%M:%S')\n",
    "print(timestamp)\n",
    "timestamp = int(time.strftime('%H'))\n",
    "print(timestamp)\n",
    "timestamp = time.strftime('%M')\n",
    "print(timestamp)\n",
    "timestamp = time.strftime('%S')\n",
    "print(timestamp)"
   ]
  },
  {
   "cell_type": "code",
   "execution_count": null,
   "metadata": {},
   "outputs": [],
   "source": []
  },
  {
   "cell_type": "code",
   "execution_count": null,
   "metadata": {},
   "outputs": [],
   "source": []
  }
 ],
 "metadata": {
  "kernelspec": {
   "display_name": "base",
   "language": "python",
   "name": "python3"
  },
  "language_info": {
   "codemirror_mode": {
    "name": "ipython",
    "version": 3
   },
   "file_extension": ".py",
   "mimetype": "text/x-python",
   "name": "python",
   "nbconvert_exporter": "python",
   "pygments_lexer": "ipython3",
   "version": "3.10.10"
  },
  "orig_nbformat": 4
 },
 "nbformat": 4,
 "nbformat_minor": 2
}
