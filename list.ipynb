{
 "cells": [
  {
   "cell_type": "code",
   "execution_count": 2,
   "metadata": {},
   "outputs": [],
   "source": [
    "#defining list in python\n",
    "\n",
    "#list of strings\n",
    "list1 = ['nikhilesh','aman']\n",
    "#list of numbers\n",
    "list2 = [1,2,3]\n",
    "#mixed data list\n",
    "list3 = ['ravi', 50 , 40,'b','false']\n",
    "#nested list\n",
    "list4 = [[1,2,3],[3,4,5]]"
   ]
  },
  {
   "cell_type": "code",
   "execution_count": 11,
   "metadata": {},
   "outputs": [
    {
     "name": "stdout",
     "output_type": "stream",
     "text": [
      "[40, 50, 60, 70, 80]\n"
     ]
    }
   ],
   "source": [
    "#Getting a list slice\n",
    "#0 1 2 3 4 5 6 7 8 9\n",
    "l = [10,20,30,40,50,60,70,80,90,100]\n",
    "slice = l[3:-2]\n",
    "print(slice)\n"
   ]
  },
  {
   "cell_type": "code",
   "execution_count": 15,
   "metadata": {},
   "outputs": [
    {
     "name": "stdout",
     "output_type": "stream",
     "text": [
      "[10, 20, 30, 40, 50]\n",
      "[10, 20, 30, 40, 50, 60, 70, 80]\n"
     ]
    }
   ],
   "source": [
    "# Getting  a list slice\n",
    "l = [10,20,30,40,50,60,70,80,90,100]\n",
    "slice1 = l[:5]\n",
    "slice2 = l[0:-2]\n",
    "print(slice1)\n",
    "print(slice2)"
   ]
  },
  {
   "cell_type": "code",
   "execution_count": 19,
   "metadata": {},
   "outputs": [
    {
     "name": "stdout",
     "output_type": "stream",
     "text": [
      "[60, 70, 80, 90, 100]\n",
      "[60, 70, 80, 90, 100]\n"
     ]
    }
   ],
   "source": [
    "# Getting  a list slice\n",
    "l = [10,20,30,40,50,60,70,80,90,100]\n",
    "slice1 = l[5:]\n",
    "slice2 = l[5:len(l)]\n",
    "print(slice1)\n",
    "print(slice2)"
   ]
  },
  {
   "cell_type": "code",
   "execution_count": 25,
   "metadata": {},
   "outputs": [],
   "source": [
    "\n",
    "list1 = [1,2,3,'a','b']"
   ]
  },
  {
   "cell_type": "code",
   "execution_count": 26,
   "metadata": {},
   "outputs": [
    {
     "name": "stdout",
     "output_type": "stream",
     "text": [
      "[1, 2, 3, 'a', 'b', 'c', 'd']\n"
     ]
    }
   ],
   "source": [
    "#append \n",
    "list1.append('c')\n",
    "list1.append('d')\n",
    "print(list1)"
   ]
  },
  {
   "cell_type": "code",
   "execution_count": 27,
   "metadata": {},
   "outputs": [
    {
     "name": "stdout",
     "output_type": "stream",
     "text": [
      "['e', 1, 2, 3, 'a', 'b', 'c', 'd']\n"
     ]
    }
   ],
   "source": [
    "list1.insert(0,'e')\n",
    "print(list1)"
   ]
  },
  {
   "cell_type": "code",
   "execution_count": 13,
   "metadata": {},
   "outputs": [
    {
     "name": "stdout",
     "output_type": "stream",
     "text": [
      "None\n",
      "[1, 2, 3, 'khushi', 'khushi awasthi']\n",
      "[1, 'python', 2, 3, 'khushi', 'khushi awasthi']\n",
      "khushi awasthi\n",
      "[1, 'python', 2, 3, 'khushi']\n",
      "[1, 2, 3, 'khushi']\n",
      "None\n",
      "[1, 2, 3]\n"
     ]
    }
   ],
   "source": [
    "arr=[1,2,3,'khushi']\n",
    "print(arr.append('khushi awasthi'))\n",
    "print(arr)\n",
    "#insert(idx,value)\n",
    "arr.insert(1,'python')\n",
    "print(arr)\n",
    "#Delete\n",
    "x=arr.pop()\n",
    "print(x)\n",
    "print(arr)\n",
    "\n",
    "arr.pop(1)\n",
    "#print(arr.pop(1))\n",
    "print(arr)\n",
    "\n",
    "\n",
    "#arr.remove(\"khushi\")\n",
    "print(arr.remove(\"khushi\"))\n",
    "print(arr)\n",
    "\n"
   ]
  },
  {
   "cell_type": "code",
   "execution_count": 15,
   "metadata": {},
   "outputs": [
    {
     "name": "stdout",
     "output_type": "stream",
     "text": [
      "1000\n",
      "-1\n",
      "[124, 0, -1, 1000, 6, 5, 4, 3, 2, 1]\n"
     ]
    }
   ],
   "source": [
    "#max\n",
    "arr1=[1,2,3,4,5,6,1000,-1,0,124]\n",
    "print(max(arr1))\n",
    "print(min(arr1))\n",
    "\n",
    "#reverse\n",
    "arr1.reverse()\n",
    "print(arr1)\n",
    "\n"
   ]
  },
  {
   "cell_type": "code",
   "execution_count": 21,
   "metadata": {},
   "outputs": [
    {
     "name": "stdout",
     "output_type": "stream",
     "text": [
      "1000\n",
      "-1\n",
      "[124, 0, -1, 1000, 6, 5, 4, 3, 2, 1]\n"
     ]
    }
   ],
   "source": [
    "#reverse\n",
    "arr1=[1,2,3,4,5,6,1000,-1,0,124]\n",
    "print(max(arr1))\n",
    "print(min(arr1))\n",
    "print(arr1[::-1])\n"
   ]
  },
  {
   "attachments": {},
   "cell_type": "markdown",
   "metadata": {},
   "source": [
    "count count how many times a number is in list."
   ]
  },
  {
   "cell_type": "code",
   "execution_count": 23,
   "metadata": {},
   "outputs": [
    {
     "name": "stdout",
     "output_type": "stream",
     "text": [
      "0\n"
     ]
    }
   ],
   "source": [
    "#Count\n",
    "arr1=[1,2,3,3,2,1,1,1]\n",
    "print(arr1.count(4))"
   ]
  },
  {
   "cell_type": "code",
   "execution_count": 24,
   "metadata": {},
   "outputs": [
    {
     "name": "stdout",
     "output_type": "stream",
     "text": [
      "[-12234, -1, 0, 1, 23, 123, 1000]\n"
     ]
    }
   ],
   "source": [
    "#sort\n",
    "arr1=[0,1,-1,123,-12234,1000,23]\n",
    "arr1.sort()\n",
    "print(arr1)\n"
   ]
  },
  {
   "attachments": {},
   "cell_type": "markdown",
   "metadata": {},
   "source": [
    "if we want to sort in decresing order then we can use(reverse=True)"
   ]
  },
  {
   "cell_type": "code",
   "execution_count": 25,
   "metadata": {},
   "outputs": [
    {
     "name": "stdout",
     "output_type": "stream",
     "text": [
      "[1000, 123, 23, 1, 0, -1, -12234]\n"
     ]
    }
   ],
   "source": [
    "arr1=[0,1,-1,123,-12234,1000,23]\n",
    "arr1.sort(reverse=True)\n",
    "print(arr1)"
   ]
  },
  {
   "attachments": {},
   "cell_type": "markdown",
   "metadata": {},
   "source": [
    "extend needs a iterable on which the loop can perform"
   ]
  },
  {
   "cell_type": "code",
   "execution_count": 28,
   "metadata": {},
   "outputs": [
    {
     "name": "stdout",
     "output_type": "stream",
     "text": [
      "[1, 2, 3, [4, 5, 6]]\n"
     ]
    }
   ],
   "source": [
    "#extend\n",
    "arr1=[1,2,3]\n",
    "arr1.append([4,5,6])\n",
    "print(arr1)"
   ]
  },
  {
   "cell_type": "code",
   "execution_count": 30,
   "metadata": {},
   "outputs": [
    {
     "name": "stdout",
     "output_type": "stream",
     "text": [
      "[1, 2, 3, 4, 5, 6, 7, 8, 9, -1, 0, 12, 34]\n"
     ]
    }
   ],
   "source": [
    "arr1=[1,2,3]\n",
    "arr1.extend([4,5,6,7,8,9,-1,0,12,34,])\n",
    "print(arr1)"
   ]
  },
  {
   "attachments": {},
   "cell_type": "markdown",
   "metadata": {},
   "source": [
    "lexicographical order---\n",
    "\n",
    "max and min(in string) find according to ascii code  "
   ]
  },
  {
   "cell_type": "code",
   "execution_count": 32,
   "metadata": {},
   "outputs": [
    {
     "name": "stdout",
     "output_type": "stream",
     "text": [
      "c\n",
      "a\n"
     ]
    }
   ],
   "source": [
    "arr=['a','b','c']\n",
    "print(max(arr))\n",
    "print(min(arr))"
   ]
  },
  {
   "cell_type": "code",
   "execution_count": null,
   "metadata": {},
   "outputs": [],
   "source": []
  }
 ],
 "metadata": {
  "kernelspec": {
   "display_name": "base",
   "language": "python",
   "name": "python3"
  },
  "language_info": {
   "codemirror_mode": {
    "name": "ipython",
    "version": 3
   },
   "file_extension": ".py",
   "mimetype": "text/x-python",
   "name": "python",
   "nbconvert_exporter": "python",
   "pygments_lexer": "ipython3",
   "version": "3.10.10"
  },
  "orig_nbformat": 4
 },
 "nbformat": 4,
 "nbformat_minor": 2
}
