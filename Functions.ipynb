{
 "cells": [
  {
   "cell_type": "markdown",
   "metadata": {},
   "source": [
    "# function definition\n",
    "   def ,return --keyword\n",
    "   pythagoras fun name\n",
    "   arguments --- 0-n"
   ]
  },
  {
   "cell_type": "code",
   "execution_count": null,
   "metadata": {},
   "outputs": [],
   "source": [
    "def pythagoras(base, perpendicular):\n",
    "    return(base**2 + perpendicular**2)**0.5"
   ]
  },
  {
   "cell_type": "code",
   "execution_count": null,
   "metadata": {},
   "outputs": [],
   "source": [
    "pythagoras(3,4)"
   ]
  },
  {
   "cell_type": "code",
   "execution_count": null,
   "metadata": {},
   "outputs": [],
   "source": [
    "pythagoras(10,9)"
   ]
  },
  {
   "cell_type": "code",
   "execution_count": null,
   "metadata": {},
   "outputs": [],
   "source": [
    "pythagoras(perpendicular =2, base = 10)"
   ]
  },
  {
   "cell_type": "markdown",
   "metadata": {},
   "source": [
    "f(x) = x^2 + 2x + 1\n",
    "f(2)\n",
    "g(x,y)=x^2+2xy +y^2\n",
    "g(2,3)"
   ]
  },
  {
   "cell_type": "markdown",
   "metadata": {},
   "source": [
    "Lambda expression - for making anonymous functions(1 line function)"
   ]
  },
  {
   "cell_type": "code",
   "execution_count": null,
   "metadata": {},
   "outputs": [],
   "source": [
    "f = lambda x: x**2 + 2*x +1 \n",
    "print(f(2))\n",
    "print(f(3))\n",
    "print(f(10))\n",
    "print(f(15))"
   ]
  },
  {
   "cell_type": "code",
   "execution_count": null,
   "metadata": {},
   "outputs": [],
   "source": [
    "g = lambda x,y,:x**2 + 2*x*y + y**2\n",
    "print(g(2,3))\n",
    "print(g(3,4))"
   ]
  },
  {
   "cell_type": "code",
   "execution_count": null,
   "metadata": {},
   "outputs": [],
   "source": [
    "h = lambda p,b,: (p**2+b**2)**0.5\n",
    "print(h(3,4))"
   ]
  },
  {
   "cell_type": "code",
   "execution_count": null,
   "metadata": {},
   "outputs": [],
   "source": [
    "# what is the amount after 16% discount on 12000\n",
    "12000*(1-.16)"
   ]
  },
  {
   "cell_type": "code",
   "execution_count": null,
   "metadata": {},
   "outputs": [],
   "source": [
    "prices = [1000,3000,12999,5000,43999,10500]\n",
    "n=len(prices)\n",
    "\n",
    "\n",
    "ans=[]\n",
    "for i in range(n):\n",
    "    discount=prices[i]*(1-.16)\n",
    "    ans.append(discount)\n",
    "\n",
    "print(ans)"
   ]
  },
  {
   "cell_type": "code",
   "execution_count": null,
   "metadata": {},
   "outputs": [],
   "source": [
    "prices = [1000,3000,12999,5000,43999,10500] \n",
    "dis_prices = []\n",
    "for price in prices:\n",
    "    ans = price*(1-.16)\n",
    "    dis_prices.append(ans)\n",
    "print(prices)\n",
    "print(dis_prices)"
   ]
  },
  {
   "cell_type": "code",
   "execution_count": null,
   "metadata": {},
   "outputs": [],
   "source": [
    "dis_price=list(map(lambda p: p *(1-.16),prices))\n",
    "print(dis_price)"
   ]
  },
  {
   "cell_type": "code",
   "execution_count": 27,
   "metadata": {},
   "outputs": [
    {
     "name": "stdout",
     "output_type": "stream",
     "text": [
      "[1, 4, 16, 36, 9, 49, 25, 64, 441]\n"
     ]
    }
   ],
   "source": [
    "x =[1,2,4,6,3,7,5,8,21]\n",
    "square = list(map(lambda x:x**2,x))\n",
    "print(square)"
   ]
  },
  {
   "cell_type": "code",
   "execution_count": 28,
   "metadata": {},
   "outputs": [
    {
     "name": "stdout",
     "output_type": "stream",
     "text": [
      "[1, 8, 64, 216, 27, 343, 125, 512, 9261]\n"
     ]
    }
   ],
   "source": [
    "x =[1,2,4,6,3,7,5,8,21]\n",
    "cube= list(map(lambda x:x**3,x))\n",
    "print(cube)"
   ]
  },
  {
   "cell_type": "code",
   "execution_count": null,
   "metadata": {},
   "outputs": [],
   "source": []
  }
 ],
 "metadata": {
  "kernelspec": {
   "display_name": "base",
   "language": "python",
   "name": "python3"
  },
  "language_info": {
   "codemirror_mode": {
    "name": "ipython",
    "version": 3
   },
   "file_extension": ".py",
   "mimetype": "text/x-python",
   "name": "python",
   "nbconvert_exporter": "python",
   "pygments_lexer": "ipython3",
   "version": "3.10.10"
  },
  "orig_nbformat": 4
 },
 "nbformat": 4,
 "nbformat_minor": 2
}
