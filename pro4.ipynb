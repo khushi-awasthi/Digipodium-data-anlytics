{
 "cells": [
  {
   "cell_type": "code",
   "execution_count": 1,
   "metadata": {},
   "outputs": [
    {
     "name": "stdout",
     "output_type": "stream",
     "text": [
      "Hello,khushi\n",
      "He said ,\"I want to eat an apple \n"
     ]
    }
   ],
   "source": [
    "name='khushi'\n",
    "friend='Stuti'\n",
    "anotherFriend='Aniket'\n",
    "apple=\"He said ,\\\"I want to eat an apple \"\n",
    "\n",
    "print(\"Hello,\"+name)\n",
    "print(apple)"
   ]
  },
  {
   "cell_type": "code",
   "execution_count": 5,
   "metadata": {},
   "outputs": [
    {
     "name": "stdout",
     "output_type": "stream",
     "text": [
      "Hello,khushi\n",
      "k\n",
      "h\n",
      "Lets use a for loop\n",
      "\n",
      "H\n",
      "e\n",
      " \n",
      "s\n",
      "a\n",
      "i\n",
      "d\n",
      " \n",
      ",\n",
      "\"\n",
      "I\n",
      " \n",
      "w\n",
      "a\n",
      "n\n",
      "t\n",
      " \n",
      "t\n",
      "o\n",
      " \n",
      "e\n",
      "a\n",
      "t\n",
      " \n",
      "a\n",
      "n\n",
      " \n",
      "a\n",
      "p\n",
      "p\n",
      "l\n",
      "e\n",
      " \n"
     ]
    }
   ],
   "source": [
    "name='khushi'\n",
    "friend='Stuti'\n",
    "anotherFriend='Aniket'\n",
    "apple=\"He said ,\\\"I want to eat an apple \"\n",
    "\n",
    "print(\"Hello,\"+name)\n",
    "#print(apple)\n",
    "print(name[0])\n",
    "print(name[1])\n",
    "#print(name[6])#throw an error\n",
    "print(\"Lets use a for loop\\n\")\n",
    "for character in apple:\n",
    "    print(character) "
   ]
  },
  {
   "attachments": {},
   "cell_type": "markdown",
   "metadata": {},
   "source": [
    "#String slicing..................."
   ]
  },
  {
   "cell_type": "code",
   "execution_count": 10,
   "metadata": {},
   "outputs": [
    {
     "name": "stdout",
     "output_type": "stream",
     "text": [
      "14\n"
     ]
    }
   ],
   "source": [
    "name =\"Khushi Awasthi\"\n",
    "print(len(name))"
   ]
  },
  {
   "cell_type": "code",
   "execution_count": 13,
   "metadata": {},
   "outputs": [
    {
     "name": "stdout",
     "output_type": "stream",
     "text": [
      "rr\n"
     ]
    }
   ],
   "source": [
    "nm =\"Harry\"\n",
    "print(nm[2:4])"
   ]
  },
  {
   "attachments": {},
   "cell_type": "markdown",
   "metadata": {},
   "source": [
    "Strings are immutable."
   ]
  },
  {
   "cell_type": "code",
   "execution_count": 26,
   "metadata": {},
   "outputs": [
    {
     "name": "stdout",
     "output_type": "stream",
     "text": [
      "42\n",
      "!!!!!!!KHUSHI!!!!!!!!  KHUSHI    !!!!!!!!!\n",
      "!!!!!!!khushi!!!!!!!!  khushi    !!!!!!!!!\n",
      "!!!!!!!Khushi!!!!!!!!  Khushi    \n",
      "!!!!!!!Aniket!!!!!!!!  Aniket    !!!!!!!!!\n",
      "['!!!!!!!Khushi!!!!!!!!', '', 'Khushi', '', '', '', '!!!!!!!!!']\n",
      "2\n"
     ]
    }
   ],
   "source": [
    "#String methods\n",
    "\n",
    "a=\"!!!!!!!Khushi!!!!!!!!  Khushi    !!!!!!!!!\"\n",
    "print(len(a))\n",
    "print(a.upper())\n",
    "print(a.lower())\n",
    "print(a.rstrip(\"!\"))\n",
    "print(a.replace(\"Khushi\",\"Aniket\"))\n",
    "print(a.split(\" \"))\n",
    "print(a.count(\"Khushi\"))\n"
   ]
  },
  {
   "cell_type": "code",
   "execution_count": 23,
   "metadata": {},
   "outputs": [
    {
     "name": "stdout",
     "output_type": "stream",
     "text": [
      "Introduction to js\n"
     ]
    }
   ],
   "source": [
    "blogheading = \"introduction to js\"\n",
    "print(blogheading.capitalize())"
   ]
  },
  {
   "cell_type": "code",
   "execution_count": 27,
   "metadata": {},
   "outputs": [
    {
     "name": "stdout",
     "output_type": "stream",
     "text": [
      "25\n",
      "50\n",
      "True\n"
     ]
    }
   ],
   "source": [
    "str1 =\"welcome to the console!!!\"\n",
    "print(len(str1))\n",
    "print(len(str1.center(50)))\n",
    "print(str1.endswith(\"!!!\"))"
   ]
  },
  {
   "cell_type": "code",
   "execution_count": 28,
   "metadata": {},
   "outputs": [
    {
     "name": "stdout",
     "output_type": "stream",
     "text": [
      "True\n"
     ]
    }
   ],
   "source": [
    "str1 =\"welcome to the console!!!\"\n",
    "print(str1.endswith(\"to\",4,10))"
   ]
  },
  {
   "cell_type": "code",
   "execution_count": 30,
   "metadata": {},
   "outputs": [
    {
     "name": "stdout",
     "output_type": "stream",
     "text": [
      "3\n",
      "3\n"
     ]
    }
   ],
   "source": [
    "str1=\"He is name is Dan.He is an honest man.\"\n",
    "print(str1.find(\"is\"))\n",
    "print(str1.index(\"is\"))"
   ]
  },
  {
   "cell_type": "code",
   "execution_count": 34,
   "metadata": {},
   "outputs": [
    {
     "name": "stdout",
     "output_type": "stream",
     "text": [
      "True\n"
     ]
    }
   ],
   "source": [
    "#str1 =\"welcome to the console!!!\"\n",
    "str1 =\"welcometotheconsole\"\n",
    "print(str1.isalnum())"
   ]
  },
  {
   "cell_type": "code",
   "execution_count": 35,
   "metadata": {},
   "outputs": [
    {
     "name": "stdout",
     "output_type": "stream",
     "text": [
      "True\n"
     ]
    }
   ],
   "source": [
    "str1=\"Welcome\"\n",
    "print(str1.isalpha())"
   ]
  },
  {
   "cell_type": "code",
   "execution_count": 36,
   "metadata": {},
   "outputs": [
    {
     "name": "stdout",
     "output_type": "stream",
     "text": [
      "True\n"
     ]
    }
   ],
   "source": [
    "str1=\"hello world\"\n",
    "print(str1.islower())"
   ]
  },
  {
   "cell_type": "code",
   "execution_count": 38,
   "metadata": {},
   "outputs": [
    {
     "name": "stdout",
     "output_type": "stream",
     "text": [
      "we wish you a merry chritmas\n",
      "True\n"
     ]
    }
   ],
   "source": [
    "#str1=\"we wish you a merry chritmas\\n\"\n",
    "str1=\"we wish you a merry chritmas\"\n",
    "print(str1)\n",
    "print(str1.isprintable())"
   ]
  },
  {
   "cell_type": "code",
   "execution_count": 39,
   "metadata": {},
   "outputs": [
    {
     "name": "stdout",
     "output_type": "stream",
     "text": [
      "True\n"
     ]
    }
   ],
   "source": [
    "str1=\"              \"#using spae bar\n",
    "print(str1.isspace())"
   ]
  },
  {
   "cell_type": "code",
   "execution_count": 41,
   "metadata": {},
   "outputs": [
    {
     "name": "stdout",
     "output_type": "stream",
     "text": [
      "True\n"
     ]
    }
   ],
   "source": [
    "str1=\"  \"  #using Tab\n",
    "print(str1.isspace())"
   ]
  },
  {
   "cell_type": "code",
   "execution_count": null,
   "metadata": {},
   "outputs": [],
   "source": []
  }
 ],
 "metadata": {
  "kernelspec": {
   "display_name": "base",
   "language": "python",
   "name": "python3"
  },
  "language_info": {
   "codemirror_mode": {
    "name": "ipython",
    "version": 3
   },
   "file_extension": ".py",
   "mimetype": "text/x-python",
   "name": "python",
   "nbconvert_exporter": "python",
   "pygments_lexer": "ipython3",
   "version": "3.10.10"
  },
  "orig_nbformat": 4
 },
 "nbformat": 4,
 "nbformat_minor": 2
}
