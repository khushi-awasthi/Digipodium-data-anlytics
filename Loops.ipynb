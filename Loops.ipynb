{
 "cells": [
  {
   "cell_type": "code",
   "execution_count": 4,
   "metadata": {},
   "outputs": [],
   "source": [
    "\n",
    "movies = ['shrek','kungfu panda',\n",
    "          'How to train your dragon','ice age',\n",
    "          'the lion king','the little mermain','the jungle  book','aladdin','the little prince',\n",
    "          'final fantacy']"
   ]
  },
  {
   "cell_type": "code",
   "execution_count": null,
   "metadata": {},
   "outputs": [],
   "source": []
  },
  {
   "cell_type": "code",
   "execution_count": 6,
   "metadata": {},
   "outputs": [
    {
     "name": "stdout",
     "output_type": "stream",
     "text": [
      "total movies =10\n"
     ]
    }
   ],
   "source": [
    "print (f'total movies ={len(movies)}')"
   ]
  },
  {
   "cell_type": "code",
   "execution_count": 7,
   "metadata": {},
   "outputs": [
    {
     "name": "stdout",
     "output_type": "stream",
     "text": [
      "shrek\n",
      "kungfu panda\n",
      "How to train your dragon\n",
      "ice age\n",
      "the lion king\n",
      "the little mermain\n",
      "the jungle  book\n",
      "aladdin\n",
      "the little prince\n",
      "final fantacy\n"
     ]
    }
   ],
   "source": [
    "for movie in movies:\n",
    "    print(movie)"
   ]
  },
  {
   "cell_type": "code",
   "execution_count": 8,
   "metadata": {},
   "outputs": [
    {
     "name": "stdout",
     "output_type": "stream",
     "text": [
      "shrek 5\n",
      "kungfu panda 12\n",
      "How to train your dragon 24\n",
      "ice age 7\n",
      "the lion king 13\n",
      "the little mermain 18\n",
      "the jungle  book 16\n",
      "aladdin 7\n",
      "the little prince 17\n",
      "final fantacy 13\n"
     ]
    }
   ],
   "source": [
    "for movie in movies:\n",
    "    print(movie, len(movie))"
   ]
  },
  {
   "cell_type": "code",
   "execution_count": 14,
   "metadata": {},
   "outputs": [
    {
     "name": "stdout",
     "output_type": "stream",
     "text": [
      "shrek                          5\n",
      "kungfu panda                   12\n",
      "How to train your dragon       24\n",
      "ice age                        7\n",
      "the lion king                  13\n",
      "the little mermain             18\n",
      "the jungle  book               16\n",
      "aladdin                        7\n",
      "the little prince              17\n",
      "final fantacy                  13\n"
     ]
    }
   ],
   "source": [
    "for movie in movies:\n",
    "    print(f'{movie:30} {len(movie)}')"
   ]
  },
  {
   "cell_type": "code",
   "execution_count": 16,
   "metadata": {},
   "outputs": [
    {
     "name": "stdout",
     "output_type": "stream",
     "text": [
      "32\n",
      "56\n",
      "23\n",
      "56\n",
      "12\n",
      "12\n",
      "67\n",
      "56\n",
      "7\n",
      "2\n"
     ]
    }
   ],
   "source": [
    "num = [32,56,23,56,12,12,67,56,7,2]\n",
    "for i in num:\n",
    "    print(i)"
   ]
  },
  {
   "cell_type": "code",
   "execution_count": 17,
   "metadata": {},
   "outputs": [
    {
     "name": "stdout",
     "output_type": "stream",
     "text": [
      "32 1024\n",
      "56 3136\n",
      "23 529\n",
      "56 3136\n",
      "12 144\n",
      "12 144\n",
      "67 4489\n",
      "56 3136\n",
      "7 49\n",
      "2 4\n"
     ]
    }
   ],
   "source": [
    "num = [32,56,23,56,12,12,67,56,7,2]\n",
    "for i in num:\n",
    "    print(i, i**2)"
   ]
  },
  {
   "cell_type": "code",
   "execution_count": 19,
   "metadata": {},
   "outputs": [
    {
     "name": "stdout",
     "output_type": "stream",
     "text": [
      "32 1024\n",
      "56 3136\n",
      "56 3136\n",
      "12 144\n",
      "12 144\n",
      "56 3136\n",
      "2 4\n"
     ]
    }
   ],
   "source": [
    "for i in num:\n",
    "    if i % 2==0:\n",
    "        print(i,i**2)"
   ]
  },
  {
   "cell_type": "code",
   "execution_count": 20,
   "metadata": {},
   "outputs": [
    {
     "name": "stdout",
     "output_type": "stream",
     "text": [
      "23 529\n",
      "67 4489\n",
      "7 49\n"
     ]
    }
   ],
   "source": [
    "for i in num:\n",
    "    if i % 2!=0:\n",
    "        print(i,i**2)"
   ]
  },
  {
   "cell_type": "code",
   "execution_count": 21,
   "metadata": {},
   "outputs": [
    {
     "data": {
      "text/plain": [
       "323"
      ]
     },
     "execution_count": 21,
     "metadata": {},
     "output_type": "execute_result"
    }
   ],
   "source": [
    "sum(num)"
   ]
  },
  {
   "cell_type": "code",
   "execution_count": 24,
   "metadata": {},
   "outputs": [
    {
     "name": "stdout",
     "output_type": "stream",
     "text": [
      "226\n"
     ]
    }
   ],
   "source": [
    "total_evens = 0\n",
    "for i in num:\n",
    "    if i % 2 == 0:\n",
    "        total_evens += i\n",
    "print(total_evens)"
   ]
  },
  {
   "cell_type": "code",
   "execution_count": 29,
   "metadata": {},
   "outputs": [
    {
     "name": "stdout",
     "output_type": "stream",
     "text": [
      "32\n",
      "56\n",
      "23\n",
      "56\n",
      "12\n",
      "12\n",
      "67\n"
     ]
    }
   ],
   "source": [
    "for i in num:\n",
    "    print(i)\n",
    "    if i>60:\n",
    "        break\n"
   ]
  },
  {
   "cell_type": "code",
   "execution_count": 31,
   "metadata": {},
   "outputs": [
    {
     "name": "stdout",
     "output_type": "stream",
     "text": [
      "apple\n",
      "potato\n",
      "banana\n",
      "\n",
      "orange\n",
      "mango\n"
     ]
    }
   ],
   "source": [
    "x=[\"apple\",'potato','banana','','orange','mango']\n",
    "for item in x:\n",
    "    print(item)"
   ]
  },
  {
   "cell_type": "code",
   "execution_count": 33,
   "metadata": {},
   "outputs": [
    {
     "name": "stdout",
     "output_type": "stream",
     "text": [
      "apple\n",
      "potato\n",
      "banana\n"
     ]
    }
   ],
   "source": [
    "x=[\"apple\",'potato','banana','','orange','mango']\n",
    "for item in x:\n",
    "    if len(item) ==0:\n",
    "        break\n",
    "    print(item)"
   ]
  },
  {
   "cell_type": "code",
   "execution_count": 36,
   "metadata": {},
   "outputs": [
    {
     "name": "stdout",
     "output_type": "stream",
     "text": [
      "Invalid username/ password\n",
      "Invalid username/ password\n",
      "Invalid username/ password\n",
      "Login successful\n"
     ]
    }
   ],
   "source": [
    "errors =0\n",
    "while True:\n",
    "    username = input('Enter username:')\n",
    "    password = input('Enter password:')\n",
    "    if username =='admin' and password == 'secret':\n",
    "        print('Login successful')\n",
    "        break\n",
    "    elif errors == 3:\n",
    "        print('Too many errors')\n",
    "    else:\n",
    "        print('Invalid username/ password')\n",
    "        errors += 1"
   ]
  },
  {
   "cell_type": "code",
   "execution_count": 4,
   "metadata": {},
   "outputs": [],
   "source": [
    "x = [\n",
    "     ['Warbreaker',4999],\n",
    "     ['The way of kings',5999],\n",
    "     ['words of radiance',5999],\n",
    "     ['Oathbringer',5999],\n",
    "     ['Rythm of war',5999],\n",
    "]"
   ]
  },
  {
   "cell_type": "code",
   "execution_count": 3,
   "metadata": {},
   "outputs": [
    {
     "name": "stdout",
     "output_type": "stream",
     "text": [
      "Warbreaker\n",
      "4999\n",
      "---\n",
      "The way of kings\n",
      "5999\n",
      "---\n",
      "words of radiance\n",
      "5999\n",
      "---\n",
      "Oathbringer\n",
      "5999\n",
      "---\n",
      "Rythm of war\n",
      "5999\n",
      "---\n"
     ]
    }
   ],
   "source": [
    "for item in x:\n",
    "    for data in item:\n",
    "        print(data)\n",
    "    print('---')"
   ]
  },
  {
   "cell_type": "code",
   "execution_count": null,
   "metadata": {},
   "outputs": [],
   "source": []
  }
 ],
 "metadata": {
  "kernelspec": {
   "display_name": "base",
   "language": "python",
   "name": "python3"
  },
  "language_info": {
   "codemirror_mode": {
    "name": "ipython",
    "version": 3
   },
   "file_extension": ".py",
   "mimetype": "text/x-python",
   "name": "python",
   "nbconvert_exporter": "python",
   "pygments_lexer": "ipython3",
   "version": "3.10.10"
  },
  "orig_nbformat": 4
 },
 "nbformat": 4,
 "nbformat_minor": 2
}
