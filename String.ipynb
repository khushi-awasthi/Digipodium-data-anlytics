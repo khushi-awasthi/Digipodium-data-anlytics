{
 "cells": [
  {
   "attachments": {},
   "cell_type": "markdown",
   "metadata": {},
   "source": [
    "string is a sequence of character."
   ]
  },
  {
   "cell_type": "code",
   "execution_count": 1,
   "metadata": {},
   "outputs": [
    {
     "name": "stdout",
     "output_type": "stream",
     "text": [
      "1\n"
     ]
    }
   ],
   "source": [
    "#Initialise the string\n",
    "s=''\n",
    "b=1\n",
    "print(str(b))\n",
    "\n",
    "\n",
    "\n"
   ]
  },
  {
   "cell_type": "code",
   "execution_count": 2,
   "metadata": {},
   "outputs": [
    {
     "name": "stdout",
     "output_type": "stream",
     "text": [
      "14\n"
     ]
    }
   ],
   "source": [
    "#length\n",
    "s='Khushi Awasthi'\n",
    "print(len(s))"
   ]
  },
  {
   "cell_type": "code",
   "execution_count": 7,
   "metadata": {},
   "outputs": [
    {
     "name": "stdout",
     "output_type": "stream",
     "text": [
      "w\n"
     ]
    }
   ],
   "source": [
    "#indexing\n",
    "print(s[8])"
   ]
  },
  {
   "cell_type": "code",
   "execution_count": 9,
   "metadata": {},
   "outputs": [
    {
     "name": "stdout",
     "output_type": "stream",
     "text": [
      "w\n",
      "0 K\n",
      "1 h\n",
      "2 u\n",
      "3 s\n",
      "4 h\n",
      "5 i\n",
      "6  \n",
      "7 A\n",
      "8 w\n",
      "9 a\n",
      "10 s\n",
      "11 t\n",
      "12 h\n",
      "13 i\n"
     ]
    }
   ],
   "source": [
    "print(s[8])\n",
    "for i in range(len(s)):\n",
    "    print (i,s[i])"
   ]
  },
  {
   "cell_type": "code",
   "execution_count": 13,
   "metadata": {},
   "outputs": [
    {
     "name": "stdout",
     "output_type": "stream",
     "text": [
      "Khush\n",
      "i Awasthi\n"
     ]
    }
   ],
   "source": [
    "#slicing\n",
    "print(s[:5])\n",
    "print(s[5:])"
   ]
  },
  {
   "cell_type": "code",
   "execution_count": 1,
   "metadata": {},
   "outputs": [],
   "source": [
    "#slicing\n",
    "msg = 'Life before death,strength before weakness,journey before destination.'"
   ]
  },
  {
   "cell_type": "code",
   "execution_count": 3,
   "metadata": {},
   "outputs": [
    {
     "name": "stdout",
     "output_type": "stream",
     "text": [
      "Life before death\n"
     ]
    }
   ],
   "source": [
    "print(msg[:17])"
   ]
  },
  {
   "cell_type": "code",
   "execution_count": 4,
   "metadata": {},
   "outputs": [
    {
     "name": "stdout",
     "output_type": "stream",
     "text": [
      "70\n"
     ]
    }
   ],
   "source": [
    "print(len(msg))"
   ]
  },
  {
   "cell_type": "code",
   "execution_count": 5,
   "metadata": {},
   "outputs": [
    {
     "data": {
      "text/plain": [
       "['Life',\n",
       " 'before',\n",
       " 'death,strength',\n",
       " 'before',\n",
       " 'weakness,journey',\n",
       " 'before',\n",
       " 'destination.']"
      ]
     },
     "execution_count": 5,
     "metadata": {},
     "output_type": "execute_result"
    }
   ],
   "source": [
    "msg.split()"
   ]
  },
  {
   "cell_type": "code",
   "execution_count": 6,
   "metadata": {},
   "outputs": [
    {
     "data": {
      "text/plain": [
       "['Life before death',\n",
       " 'strength before weakness',\n",
       " 'journey before destination.']"
      ]
     },
     "execution_count": 6,
     "metadata": {},
     "output_type": "execute_result"
    }
   ],
   "source": [
    "msg.split(',')"
   ]
  },
  {
   "cell_type": "code",
   "execution_count": 26,
   "metadata": {},
   "outputs": [
    {
     "name": "stdout",
     "output_type": "stream",
     "text": [
      "rain rain go away,\n",
      "come again another day.\n",
      "little johny wants to play,\n",
      "rain rain go away.\n"
     ]
    }
   ],
   "source": [
    "poem='''rain rain go away,\n",
    "come again another day.\n",
    "little johny wants to play,\n",
    "rain rain go away.'''\n",
    "print(poem)"
   ]
  },
  {
   "cell_type": "code",
   "execution_count": 15,
   "metadata": {},
   "outputs": [
    {
     "name": "stdout",
     "output_type": "stream",
     "text": [
      "-x--x--x--x--x--x--x--x--x--x-\n",
      "89 num of characters\n",
      "17 num of words\n",
      "4 num of lines\n"
     ]
    }
   ],
   "source": [
    "print('-x-'*10)\n",
    "print(len(poem),'num of characters')\n",
    "print(len(poem.split()),'num of words')\n",
    "print(len(poem.splitlines()),'num of lines')"
   ]
  },
  {
   "cell_type": "code",
   "execution_count": 18,
   "metadata": {},
   "outputs": [
    {
     "data": {
      "text/plain": [
       "1"
      ]
     },
     "execution_count": 18,
     "metadata": {},
     "output_type": "execute_result"
    }
   ],
   "source": [
    "#count\n",
    "poem.count('johny')"
   ]
  },
  {
   "cell_type": "code",
   "execution_count": 21,
   "metadata": {},
   "outputs": [
    {
     "name": "stdout",
     "output_type": "stream",
     "text": [
      "LIFE BEFORE DEATH,STRENGTH BEFORE WEAKNESS,JOURNEY BEFORE DESTINATION.\n",
      "life before death,strength before weakness,journey before destination.\n",
      "Life Before Death,Strength Before Weakness,Journey Before Destination.\n",
      "Life before death,strength before weakness,journey before destination.\n",
      "lIFE BEFORE DEATH,STRENGTH BEFORE WEAKNESS,JOURNEY BEFORE DESTINATION.\n"
     ]
    }
   ],
   "source": [
    "print(msg.upper())\n",
    "print(msg.lower())\n",
    "print(msg.title())\n",
    "print(msg.capitalize())\n",
    "print(msg.swapcase())"
   ]
  },
  {
   "cell_type": "code",
   "execution_count": 24,
   "metadata": {},
   "outputs": [
    {
     "name": "stdout",
     "output_type": "stream",
     "text": [
      "apple False\n",
      "apple True\n",
      "apple True\n",
      "200 True\n",
      "200 False\n",
      "200 True\n",
      "apple100 False\n",
      "apple100 False\n",
      "apple100 True\n"
     ]
    }
   ],
   "source": [
    "a='apple'\n",
    "b='200'\n",
    "c='apple100'\n",
    "print(a,a.isnumeric())#check  if all character are numeric\n",
    "print(a,a.isalpha())#check  if all character are alphabets\n",
    "print(a,a.isalnum())#check  if all character are alphanumeric\n",
    "print(b,b.isnumeric())#check  if all character are numeric\n",
    "print(b,b.isalpha())#check  if all character are alphabets\n",
    "print(b,b.isalnum())#check  if all character are alphanumeric\n",
    "print(c,c.isnumeric())#check  if all character are numeric\n",
    "print(c,c.isalpha())#check  if all character are alphabets\n",
    "print(c,c.isalnum())#check  if all character are alphanumeric\n"
   ]
  },
  {
   "cell_type": "code",
   "execution_count": 27,
   "metadata": {},
   "outputs": [
    {
     "name": "stdout",
     "output_type": "stream",
     "text": [
      "pain pain go away,\n",
      "come again another day.\n",
      "little johny wants to play,\n",
      "pain pain go away.\n"
     ]
    }
   ],
   "source": [
    "\n",
    "#replace\n",
    "print(poem.replace('rain','pain'))"
   ]
  },
  {
   "cell_type": "code",
   "execution_count": 28,
   "metadata": {},
   "outputs": [
    {
     "name": "stdout",
     "output_type": "stream",
     "text": [
      "sun sun go away,\n",
      "come again another day.\n",
      "little johny wants to play,\n",
      "sun sun go away.\n"
     ]
    }
   ],
   "source": [
    "print(poem.replace('rain','sun'))"
   ]
  },
  {
   "cell_type": "code",
   "execution_count": 29,
   "metadata": {},
   "outputs": [
    {
     "name": "stdout",
     "output_type": "stream",
     "text": [
      "rasun rasun go away,\n",
      "come agasun another day.\n",
      "little johny wants to play,\n",
      "rasun rasun go away.\n"
     ]
    }
   ],
   "source": [
    "print(poem.replace('in','sun'))"
   ]
  },
  {
   "cell_type": "code",
   "execution_count": 30,
   "metadata": {},
   "outputs": [
    {
     "name": "stdout",
     "output_type": "stream",
     "text": [
      "rasun rasun go away,\n",
      "come again another day.\n",
      "little johny wants to play,\n",
      "rain rain go away.\n"
     ]
    }
   ],
   "source": [
    "print(poem.replace('in','sun',2))# 2 is the max number  of replacement"
   ]
  },
  {
   "cell_type": "code",
   "execution_count": null,
   "metadata": {},
   "outputs": [],
   "source": []
  }
 ],
 "metadata": {
  "kernelspec": {
   "display_name": "base",
   "language": "python",
   "name": "python3"
  },
  "language_info": {
   "codemirror_mode": {
    "name": "ipython",
    "version": 3
   },
   "file_extension": ".py",
   "mimetype": "text/x-python",
   "name": "python",
   "nbconvert_exporter": "python",
   "pygments_lexer": "ipython3",
   "version": "3.10.10"
  },
  "orig_nbformat": 4
 },
 "nbformat": 4,
 "nbformat_minor": 2
}
